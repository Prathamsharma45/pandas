{
 "cells": [
  {
   "cell_type": "code",
   "execution_count": null,
   "id": "9b509271",
   "metadata": {},
   "outputs": [],
   "source": [
    "##########pandas#############\n",
    "      #Series  1Dim\n",
    "      #dataframe 2dim\n",
    "      #penel  3dim\n",
    "#dataframe single colunm is series \n",
    "#multiple colunm is dataframe "
   ]
  },
  {
   "cell_type": "code",
   "execution_count": 3,
   "id": "29b54b05",
   "metadata": {},
   "outputs": [
    {
     "name": "stdout",
     "output_type": "stream",
     "text": [
      "Requirement already satisfied: pandas in c:\\users\\hp\\appdata\\local\\programs\\python\\python313\\lib\\site-packages (2.3.1)\n",
      "Requirement already satisfied: numpy>=1.26.0 in c:\\users\\hp\\appdata\\local\\programs\\python\\python313\\lib\\site-packages (from pandas) (2.3.1)\n",
      "Requirement already satisfied: python-dateutil>=2.8.2 in c:\\users\\hp\\appdata\\roaming\\python\\python313\\site-packages (from pandas) (2.9.0.post0)\n",
      "Requirement already satisfied: pytz>=2020.1 in c:\\users\\hp\\appdata\\local\\programs\\python\\python313\\lib\\site-packages (from pandas) (2025.2)\n",
      "Requirement already satisfied: tzdata>=2022.7 in c:\\users\\hp\\appdata\\local\\programs\\python\\python313\\lib\\site-packages (from pandas) (2025.2)\n",
      "Requirement already satisfied: six>=1.5 in c:\\users\\hp\\appdata\\roaming\\python\\python313\\site-packages (from python-dateutil>=2.8.2->pandas) (1.17.0)\n"
     ]
    },
    {
     "name": "stderr",
     "output_type": "stream",
     "text": [
      "\n",
      "[notice] A new release of pip is available: 24.3.1 -> 25.1.1\n",
      "[notice] To update, run: python.exe -m pip install --upgrade pip\n"
     ]
    }
   ],
   "source": [
    "! pip install pandas\n"
   ]
  },
  {
   "cell_type": "code",
   "execution_count": 9,
   "id": "6c3545b8",
   "metadata": {},
   "outputs": [
    {
     "name": "stdout",
     "output_type": "stream",
     "text": [
      "0   -1.437580\n",
      "1   -0.302675\n",
      "2   -1.320714\n",
      "3    0.199886\n",
      "dtype: float64 RangeIndex(start=0, stop=4, step=1)\n",
      "0        2\n",
      "1        3\n",
      "2        4\n",
      "3     5.05\n",
      "4    hello\n",
      "dtype: object RangeIndex(start=0, stop=5, step=1)\n"
     ]
    }
   ],
   "source": [
    "import pandas as pd\n",
    "import numpy as np\n",
    "s1=pd.Series(np.random.randn(4))\n",
    "s2=pd.Series([2,3,4,5.05,\"hello\"])\n",
    "\n",
    "print(s1,s1.index)\n",
    "print(s2,s2.index)\n",
    "\n"
   ]
  },
  {
   "cell_type": "code",
   "execution_count": 12,
   "id": "2280cd8b",
   "metadata": {},
   "outputs": [
    {
     "name": "stdout",
     "output_type": "stream",
     "text": [
      "m       1\n",
      "y    2004\n",
      "d     sun\n",
      "dtype: object\n",
      "y    2004\n",
      "m       1\n",
      "d     sun\n",
      "dtype: object\n"
     ]
    }
   ],
   "source": [
    "dict={\"m\":1,\"y\":2004,\"d\":\"sun\"}\n",
    "s3=pd.Series(dict)\n",
    "print(s3)\n",
    "s4=pd.Series(dict,index=['y','m','d'])\n",
    "print(s4)"
   ]
  },
  {
   "cell_type": "code",
   "execution_count": 15,
   "id": "9a859ea6",
   "metadata": {},
   "outputs": [
    {
     "name": "stdout",
     "output_type": "stream",
     "text": [
      "-0.3026750526319633\n"
     ]
    }
   ],
   "source": [
    "print(s1[1])"
   ]
  },
  {
   "cell_type": "code",
   "execution_count": 16,
   "id": "cb30a334",
   "metadata": {},
   "outputs": [
    {
     "name": "stdout",
     "output_type": "stream",
     "text": [
      "creating series using scalar in pandas\n",
      "a    8\n",
      "b    8\n",
      "c    8\n",
      "d    8\n",
      "dtype: int64\n"
     ]
    }
   ],
   "source": [
    "#create scalar value in list using pandas\n",
    "print(\"creating series using scalar in pandas\")\n",
    "scl=pd.Series(8,index=['a','b','c','d'])\n",
    "print(scl)"
   ]
  },
  {
   "cell_type": "code",
   "execution_count": 24,
   "id": "e4585c0d",
   "metadata": {},
   "outputs": [
    {
     "name": "stdout",
     "output_type": "stream",
     "text": [
      "mean= -0.7152706863611752\n",
      "median= -0.8116945691044996\n",
      "maximum= 0.1998862029880912\n",
      "minimum= -1.4375798102237929\n",
      "standarddeviation=  0.7949925511527501\n",
      "sum= -2.8610827454447008\n"
     ]
    }
   ],
   "source": [
    "print(\"mean=\",s1.mean())\n",
    "print(\"median=\",s1.median())\n",
    "print(\"maximum=\",s1.max())\n",
    "print(\"minimum=\",s1.min())\n",
    "print(\"standarddeviation= \",s1.std())\n",
    "print(\"sum=\",s1.sum())"
   ]
  },
  {
   "cell_type": "code",
   "execution_count": 34,
   "id": "2c968af3",
   "metadata": {},
   "outputs": [
    {
     "name": "stdout",
     "output_type": "stream",
     "text": [
      "a    1\n",
      "b    2\n",
      "c    3\n",
      "d    4\n",
      "e    5\n",
      "dtype: int64\n",
      "e    5\n",
      "f    6\n",
      "g    7\n",
      "h    8\n",
      "i    9\n",
      "dtype: int64\n",
      "a     2\n",
      "b     4\n",
      "c     6\n",
      "d     8\n",
      "e    10\n",
      "dtype: int64\n",
      "a     1\n",
      "b     4\n",
      "c     9\n",
      "d    16\n",
      "e    25\n",
      "dtype: int64\n",
      "a    0\n",
      "b    0\n",
      "c    0\n",
      "d    0\n",
      "e    0\n",
      "dtype: int64\n",
      "a    NaN\n",
      "b    NaN\n",
      "c    NaN\n",
      "d    NaN\n",
      "e    1.0\n",
      "f    NaN\n",
      "g    NaN\n",
      "h    NaN\n",
      "i    NaN\n",
      "dtype: float64\n",
      "a       1.0\n",
      "b       NaN\n",
      "c       NaN\n",
      "d       NaN\n",
      "e    3125.0\n",
      "f       NaN\n",
      "g       NaN\n",
      "h       NaN\n",
      "i       NaN\n",
      "dtype: float64\n",
      "a    1.000000\n",
      "b    1.414214\n",
      "c    1.732051\n",
      "d    2.000000\n",
      "e    2.236068\n",
      "dtype: float64\n",
      "<bound method Series.cumsum of a    1\n",
      "b    2\n",
      "c    3\n",
      "d    4\n",
      "e    5\n",
      "dtype: int64>\n",
      "<bound method Series.cumprod of a    1\n",
      "b    2\n",
      "c    3\n",
      "d    4\n",
      "e    5\n",
      "dtype: int64>\n"
     ]
    }
   ],
   "source": [
    "s1 = pd.Series([1, 2, 3, 4, 5], index=['a', 'b', 'c', 'd', 'e'])\n",
    "s2= pd.Series([5,6,7,8,9], index=['e','f','g','h','i'])\n",
    "print( s1)\n",
    "print (s2)\n",
    "\n",
    "print(s1+s1)\n",
    "print(s1*s1)\n",
    "print(s1-s1)\n",
    "print(s1/s2)\n",
    "print(s1**s2)\n",
    "print(s1.apply(np.sqrt))\n",
    "print(s1.cumsum)\n",
    "print(s1.cumprod)\n"
   ]
  },
  {
   "cell_type": "code",
   "execution_count": 35,
   "id": "adbe897a",
   "metadata": {},
   "outputs": [
    {
     "name": "stdout",
     "output_type": "stream",
     "text": [
      "Index(['a', 'b', 'c', 'd', 'e'], dtype='object')\n"
     ]
    }
   ],
   "source": [
    "print(s1.index)"
   ]
  },
  {
   "cell_type": "code",
   "execution_count": null,
   "id": "6c823319",
   "metadata": {},
   "outputs": [
    {
     "name": "stdout",
     "output_type": "stream",
     "text": [
      "[1 2 3 4 5]\n"
     ]
    }
   ],
   "source": [
    "print(s1.values) #use for the checking values"
   ]
  },
  {
   "cell_type": "code",
   "execution_count": null,
   "id": "52062ad0",
   "metadata": {},
   "outputs": [
    {
     "name": "stdout",
     "output_type": "stream",
     "text": [
      "int64\n"
     ]
    }
   ],
   "source": [
    "print(s1.dtype) # use bfor checking datatype"
   ]
  },
  {
   "cell_type": "code",
   "execution_count": null,
   "id": "0debe803",
   "metadata": {},
   "outputs": [
    {
     "name": "stdout",
     "output_type": "stream",
     "text": [
      "5\n"
     ]
    }
   ],
   "source": [
    "print(s1.size) #using for the size "
   ]
  },
  {
   "cell_type": "code",
   "execution_count": null,
   "id": "81db688c",
   "metadata": {},
   "outputs": [
    {
     "name": "stdout",
     "output_type": "stream",
     "text": [
      "(5,)\n"
     ]
    }
   ],
   "source": [
    "print(s1.shape)#shape is in the form of tuple"
   ]
  },
  {
   "cell_type": "code",
   "execution_count": 42,
   "id": "0a37b3ab",
   "metadata": {},
   "outputs": [
    {
     "name": "stdout",
     "output_type": "stream",
     "text": [
      "True\n",
      "True\n"
     ]
    }
   ],
   "source": [
    "marks_series=pd.Series([90,50,85,93,35])\n",
    "print(marks_series.is_unique)\n",
    "duplicate_series=pd.Series([90,5,6,7,89])\n",
    "print(duplicate_series.is_unique)"
   ]
  },
  {
   "cell_type": "code",
   "execution_count": 43,
   "id": "960cf6ef",
   "metadata": {},
   "outputs": [
    {
     "name": "stdout",
     "output_type": "stream",
     "text": [
      "0       1\n",
      "1       2\n",
      "2       3\n",
      "3    none\n",
      "4     5.5\n",
      "dtype: object\n",
      "0    False\n",
      "1    False\n",
      "2    False\n",
      "3    False\n",
      "4    False\n",
      "dtype: bool\n",
      "0    True\n",
      "1    True\n",
      "2    True\n",
      "3    True\n",
      "4    True\n",
      "dtype: bool\n"
     ]
    }
   ],
   "source": [
    "s_with_nan=pd.Series([1,2,3,\"none\",5.5])\n",
    "print(s_with_nan)\n",
    "print(s_with_nan.isnull())\n",
    "print(s_with_nan.notnull())\n"
   ]
  },
  {
   "cell_type": "code",
   "execution_count": null,
   "id": "b94d92ad",
   "metadata": {},
   "outputs": [
    {
     "name": "stdout",
     "output_type": "stream",
     "text": [
      "a    10\n",
      "b    20\n",
      "c    30\n",
      "d    40\n",
      "e    50\n",
      "dtype: int64\n"
     ]
    }
   ],
   "source": [
    "data=pd.Series([10,20,30,40,50],index=['a','b','c','d','e'])\n",
    "print(data)\n"
   ]
  },
  {
   "cell_type": "code",
   "execution_count": 51,
   "id": "b44d66a1",
   "metadata": {},
   "outputs": [
    {
     "name": "stdout",
     "output_type": "stream",
     "text": [
      "30\n",
      "30\n",
      "a    10\n",
      "b    20\n",
      "e    50\n",
      "dtype: int64\n"
     ]
    },
    {
     "name": "stderr",
     "output_type": "stream",
     "text": [
      "C:\\Users\\Hp\\AppData\\Local\\Temp\\ipykernel_15020\\3802549766.py:2: FutureWarning: Series.__getitem__ treating keys as positions is deprecated. In a future version, integer keys will always be treated as labels (consistent with DataFrame behavior). To access a value by position, use `ser.iloc[pos]`\n",
      "  print(data[2])\n"
     ]
    }
   ],
   "source": [
    "\n",
    "print(data['c'])\n",
    "print(data[2])\n",
    "print(data[['a','b','e']])"
   ]
  }
 ],
 "metadata": {
  "kernelspec": {
   "display_name": "Python 3",
   "language": "python",
   "name": "python3"
  },
  "language_info": {
   "codemirror_mode": {
    "name": "ipython",
    "version": 3
   },
   "file_extension": ".py",
   "mimetype": "text/x-python",
   "name": "python",
   "nbconvert_exporter": "python",
   "pygments_lexer": "ipython3",
   "version": "3.13.2"
  }
 },
 "nbformat": 4,
 "nbformat_minor": 5
}
